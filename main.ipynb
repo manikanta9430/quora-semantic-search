{
 "cells": [
  {
   "cell_type": "code",
   "execution_count": 1,
   "metadata": {},
   "outputs": [],
   "source": [
    "from qdrant_client import QdrantClient, models\n",
    "from sentence_transformers import SentenceTransformer\n",
    "import pandas as pd"
   ]
  },
  {
   "cell_type": "code",
   "execution_count": 2,
   "metadata": {},
   "outputs": [],
   "source": [
    "encoder = SentenceTransformer(\"all-MiniLM-L6-v2\")"
   ]
  },
  {
   "cell_type": "code",
   "execution_count": 3,
   "metadata": {},
   "outputs": [],
   "source": [
    "csv_path = './data.csv'\n",
    "df = pd.read_csv(csv_path)\n",
    "documents = df['question'].values\n"
   ]
  },
  {
   "cell_type": "code",
   "execution_count": 4,
   "metadata": {},
   "outputs": [
    {
     "data": {
      "text/plain": [
       "array(['What is the step by step guide to invest in share market in india?',\n",
       "       'What is the story of Kohinoor (Koh-i-Noor) Diamond?',\n",
       "       'How can I increase the speed of my internet connection while using a VPN?',\n",
       "       ..., 'What is one coin?',\n",
       "       'What is the approx annual cost of living while studying in UIC Chicago, for an Indian student?',\n",
       "       'What is like to have sex with cousin?'], dtype=object)"
      ]
     },
     "execution_count": 4,
     "metadata": {},
     "output_type": "execute_result"
    }
   ],
   "source": [
    "documents"
   ]
  },
  {
   "cell_type": "code",
   "execution_count": 5,
   "metadata": {},
   "outputs": [
    {
     "data": {
      "text/plain": [
       "range(0, 404351)"
      ]
     },
     "execution_count": 5,
     "metadata": {},
     "output_type": "execute_result"
    }
   ],
   "source": [
    "document_ids = range(len(documents))\n",
    "document_ids"
   ]
  },
  {
   "cell_type": "code",
   "execution_count": 11,
   "metadata": {},
   "outputs": [],
   "source": [
    "qdrant = QdrantClient(\"localhost\", port=6333)"
   ]
  },
  {
   "cell_type": "code",
   "execution_count": null,
   "metadata": {},
   "outputs": [],
   "source": [
    "qdrant.recreate_collection(\n",
    "    collection_name = \"my_books\",\n",
    "    vectors_config = models.VectorParams(\n",
    "        size = encoder.get_sentence_embedding_dimension(),\n",
    "        distance = models.Distance.COSINE,\n",
    "    ),\n",
    ")"
   ]
  },
  {
   "cell_type": "code",
   "execution_count": null,
   "metadata": {},
   "outputs": [],
   "source": [
    "uploaded_points = []\n",
    "\n",
    "for doc_id, question in zip(document_ids, documents):\n",
    "    try:\n",
    "        vectorized_question = encoder.encode(question).tolist()\n",
    "        point = models.PointStruct(\n",
    "            id=doc_id,\n",
    "            vector=vectorized_question,\n",
    "            payload={\"question\": question}\n",
    "        )\n",
    "        uploaded_points.append(point)\n",
    "    except Exception as e:\n",
    "        print(f\"Error processing document {doc_id}: {e}\")\n",
    "\n",
    "qdrant.upload_points(\n",
    "    collection_name=\"my_books\",\n",
    "    points=uploaded_points\n",
    ")\n"
   ]
  },
  {
   "cell_type": "code",
   "execution_count": 20,
   "metadata": {},
   "outputs": [],
   "source": [
    "hits = qdrant.search(\n",
    "    collection_name=\"my_books\",\n",
    "    query_vector = encoder.encode(\"what is best way to invest in india\").tolist(),\n",
    "    limit=5\n",
    ")"
   ]
  },
  {
   "cell_type": "code",
   "execution_count": 21,
   "metadata": {},
   "outputs": [
    {
     "name": "stdout",
     "output_type": "stream",
     "text": [
      "{'question': 'What are some of the best ways to invest money in India?'} score:  0.94016796\n",
      "{'question': 'What is the best way to invest money in stocks in India?'} score:  0.9017929\n",
      "{'question': 'What are best investment options in India?'} score:  0.89098483\n",
      "{'question': 'How do I invest my money in India?'} score:  0.8877584\n",
      "{'question': 'What is best investment option in India?'} score:  0.887447\n"
     ]
    }
   ],
   "source": [
    "for hit in hits:\n",
    "    print(hit.payload, \"score: \", hit.score)"
   ]
  }
 ],
 "metadata": {
  "kernelspec": {
   "display_name": "semantic-sample-c1SxJssA",
   "language": "python",
   "name": "python3"
  },
  "language_info": {
   "codemirror_mode": {
    "name": "ipython",
    "version": 3
   },
   "file_extension": ".py",
   "mimetype": "text/x-python",
   "name": "python",
   "nbconvert_exporter": "python",
   "pygments_lexer": "ipython3",
   "version": "3.12.2"
  }
 },
 "nbformat": 4,
 "nbformat_minor": 2
}
